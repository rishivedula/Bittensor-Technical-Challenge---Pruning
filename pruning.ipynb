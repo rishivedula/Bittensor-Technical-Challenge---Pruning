{
 "cells": [
  {
   "cell_type": "markdown",
   "metadata": {},
   "source": [
    "# PRUNING SPARCITY AND ACCURACY"
   ]
  },
  {
   "cell_type": "code",
   "execution_count": 1,
   "metadata": {},
   "outputs": [],
   "source": [
    "import torch\n",
    "import torch.nn as nn\n",
    "import torch.nn.functional as F\n",
    "import torchvision\n",
    "import torch.nn.utils.prune as prune\n",
    "import numpy as np\n",
    "import pandas as pd\n",
    "import time\n",
    "import matplotlib.pyplot as plt"
   ]
  },
  {
   "cell_type": "code",
   "execution_count": 2,
   "metadata": {},
   "outputs": [],
   "source": [
    "\"\"\"\n",
    "    Intialising list of k values.  \n",
    "\"\"\"\n",
    "k_list = [val/100 for val in [0, 25, 50, 60, 70, 80, 90, 95, 97, 99]]"
   ]
  },
  {
   "cell_type": "code",
   "execution_count": 3,
   "metadata": {},
   "outputs": [],
   "source": [
    "\"\"\"\n",
    "    If GPU is available then run on GPU else run on CPU\n",
    "\"\"\"\n",
    "if torch.cuda.is_available():  \n",
    "    dev = \"cuda:0\" \n",
    "else:  \n",
    "    dev = \"cpu\"  \n",
    "device = torch.device(dev)  "
   ]
  },
  {
   "cell_type": "code",
   "execution_count": 4,
   "metadata": {},
   "outputs": [],
   "source": [
    "\"\"\"\n",
    "    . torchvision.datasets.MNIST downloads PIL images \n",
    "    . Hence we need to define transform object to convert downloaded MNIST PIL images to Tensors\n",
    "    . Batch size of 32 was used. \n",
    "    . Intiliasing only the test data loader because we want to test the Accuracy scores for each Sparsity in k_list\n",
    "\"\"\"\n",
    "transform = torchvision.transforms.Compose([torchvision.transforms.ToTensor()])\n",
    "\n",
    "# Creating Data Loader object for creating the Test set by using the field train=False \n",
    "test_data = torchvision.datasets.MNIST(\"./\",train=False,download=True,transform=transform)\n",
    "test_data_loaded = torch.utils.data.DataLoader(test_data,\n",
    "                                          batch_size=100,\n",
    "                                          shuffle=True)"
   ]
  },
  {
   "cell_type": "code",
   "execution_count": 5,
   "metadata": {},
   "outputs": [],
   "source": [
    "\"\"\"\n",
    "Initialising the Model class exactly same as mtrained model\n",
    "\n",
    "input (inp) ==> 28*28 neurons\n",
    "layer1      ==> 1000 neurons\n",
    "layer2      ==> 1000 neurons\n",
    "layer3      ==> 500 neurons\n",
    "layer4      ==> 200 neurons\n",
    "output(out) ==> 10 neurons  Since number of classes are 10\n",
    "\n",
    "* Softmax layer is not being used as the final layer becuase Crossentropy loss\n",
    "  is being used which takes the input as logits and calculates softmax before computing loss. \n",
    "\"\"\"\n",
    "\n",
    "class Model(torch.nn.Module):\n",
    "    def __init__(self):\n",
    "        super(Model,self).__init__()\n",
    "        self.inp = nn.Linear(28*28,1000)\n",
    "        self.layer1 = nn.Linear(1000,1000)\n",
    "        self.layer2 = nn.Linear(1000,1000)\n",
    "        self.layer3 = nn.Linear(1000,500)\n",
    "        self.layer4 = nn.Linear(500,200)\n",
    "        self.out = nn.Linear(200,10)\n",
    "    \n",
    "    def forward(self,x):\n",
    "        x = torch.flatten(x,1)\n",
    "        x = self.inp(x)\n",
    "        x = F.relu(x)\n",
    "        x = self.layer1(x)\n",
    "        x = F.relu(x)\n",
    "        x = self.layer2(x)\n",
    "        x = F.relu(x)\n",
    "        x = self.layer3(x)\n",
    "        x = F.relu(x)\n",
    "        x = self.layer4(x)\n",
    "        x = F.relu(x)\n",
    "        x = self.out(x)\n",
    "        #x = F.softmax(x,dim = 1)\n",
    "        return x"
   ]
  },
  {
   "cell_type": "code",
   "execution_count": 6,
   "metadata": {},
   "outputs": [],
   "source": [
    "\"\"\"\n",
    "    This function returns the Sparsity and Accuracy of the model with k % Pruning \n",
    "\"\"\"\n",
    "def get_sparsity_accuracy(nmodel,test_data_loaded,device):\n",
    "    \n",
    "    \"\"\"\n",
    "       Calculating sum of all weights = 0 in the model.\n",
    "    \"\"\"\n",
    "    global_sparsity = float(torch.sum(nmodel.inp.weight == 0))        \n",
    "    global_sparsity += float(torch.sum(nmodel.layer1.weight == 0))\n",
    "    global_sparsity += float(torch.sum(nmodel.layer2.weight == 0))\n",
    "    global_sparsity += float(torch.sum(nmodel.layer3.weight == 0))\n",
    "    global_sparsity += float(torch.sum(nmodel.layer4.weight == 0))\n",
    "    \n",
    "    \"\"\"\n",
    "       Calculating total number of weights in the model.\n",
    "    \"\"\"\n",
    "    total_no_of_weights = float(  nmodel.inp.weight.nelement()\n",
    "                                + nmodel.layer1.weight.nelement()\n",
    "                                + nmodel.layer2.weight.nelement()\n",
    "                                + nmodel.layer3.weight.nelement()\n",
    "                                + nmodel.layer4.weight.nelement())\n",
    "    \"\"\"\n",
    "       Calculating Sparsity =  (sum of all weights equal to 0) / (total number of weights in the model)\n",
    "    \"\"\"\n",
    "    \n",
    "    percent_sparsity = 100.0 * (global_sparsity/total_no_of_weights)\n",
    "    print(\"Global sparsity: {:.2f}%\".format(percent_sparsity))\n",
    "    \n",
    "    \"\"\"\n",
    "       Calculating the Accuracy of the pruned model on the Test set\n",
    "    \"\"\"\n",
    "    \n",
    "    num_correct = 0\n",
    "    time_ = 0\n",
    "    for i,images in enumerate(test_data_loaded):\n",
    "        batch_images,batch_labels = images                           # iterate over the batches of training data\n",
    "        batch_images = batch_images.to(device)\n",
    "        batch_labels = batch_labels.to(device)\n",
    "        with torch.no_grad():\n",
    "            start = time.time()\n",
    "            outputs = nmodel(batch_images)                           # computing forward pass \n",
    "            end = time.time()\n",
    "            num_correct += (batch_labels == outputs.max(dim=1)[1])   # Calculating total number of correct outputs \n",
    "            time_ += end - start\n",
    "    accuracy = 100*num_correct.sum()/len(test_data_loaded.dataset)   # Accuracy = numbr of correct outputs / total test samples\n",
    "    print(\"Accuracy: {:.2f}%\".format(accuracy))\n",
    "    return [percent_sparsity,round(float(accuracy),2),float(time_)/float(i)]"
   ]
  },
  {
   "cell_type": "markdown",
   "metadata": {},
   "source": [
    "## WEIGHT PRUNING"
   ]
  },
  {
   "cell_type": "code",
   "execution_count": 7,
   "metadata": {},
   "outputs": [
    {
     "name": "stdout",
     "output_type": "stream",
     "text": [
      "Global sparsity: 0.00%\n",
      "Accuracy: 97.98%\n",
      "Global sparsity: 25.00%\n",
      "Accuracy: 98.01%\n",
      "Global sparsity: 50.00%\n",
      "Accuracy: 97.96%\n",
      "Global sparsity: 60.00%\n",
      "Accuracy: 97.92%\n",
      "Global sparsity: 70.00%\n",
      "Accuracy: 97.56%\n",
      "Global sparsity: 80.00%\n",
      "Accuracy: 96.76%\n",
      "Global sparsity: 90.00%\n",
      "Accuracy: 77.95%\n",
      "Global sparsity: 95.00%\n",
      "Accuracy: 34.19%\n",
      "Global sparsity: 97.00%\n",
      "Accuracy: 9.96%\n",
      "Global sparsity: 99.00%\n",
      "Accuracy: 9.74%\n"
     ]
    }
   ],
   "source": [
    "\"\"\"\n",
    "1)  Perform Weight Pruning to prune away k% neurons/units for k in  [0, 25, 50, 60, 70, 80, 90, 95, 97, 99]\n",
    "2)  Choose all layers other than the output layer and rank the weights using the absolute values\n",
    "    by using the l1_unstructured function. \n",
    "3)  Calculate Sparsity in layers and the Accuracy of the Pruned model on the Test set.\n",
    "\n",
    "\n",
    "Reference -->  https://pytorch.org/tutorials/intermediate/pruning_tutorial.html\n",
    "\"\"\"\n",
    "data = []\n",
    "for k in k_list:\n",
    "    nmodel = Model()\n",
    "    nmodel.to(device)\n",
    "    #nmodel = torch.load(\"mnists.pth\")\n",
    "    nmodel.load_state_dict(torch.load(\"mnist.pth\"))                     # Loading weights of pre-trained MNIST pytorch model\n",
    "    nmodel.eval()\n",
    "\n",
    "    for name, module in nmodel.named_modules():\n",
    "        if name not in [\"\",\"out\"]:\n",
    "            prune.l1_unstructured(module, name='weight', amount=k)\n",
    "    \n",
    "    data.append(get_sparsity_accuracy(nmodel,test_data_loaded,device))"
   ]
  },
  {
   "cell_type": "code",
   "execution_count": 8,
   "metadata": {},
   "outputs": [
    {
     "name": "stdout",
     "output_type": "stream",
     "text": [
      "   % Sparsity  % Accuracy  Execution Time\n",
      "0         0.0       97.98        0.002655\n",
      "1        25.0       98.01        0.000325\n",
      "2        50.0       97.96        0.000986\n",
      "3        60.0       97.92        0.000434\n",
      "4        70.0       97.56        0.000883\n",
      "5        80.0       96.76        0.000595\n",
      "6        90.0       77.95        0.000885\n",
      "7        95.0       34.19        0.000851\n",
      "8        97.0        9.96        0.000198\n",
      "9        99.0        9.74        0.000682\n"
     ]
    }
   ],
   "source": [
    "df = pd.DataFrame(data,columns=['% Sparsity', '% Accuracy',\"Execution Time\"])\n",
    "print(df)"
   ]
  },
  {
   "cell_type": "code",
   "execution_count": 9,
   "metadata": {},
   "outputs": [
    {
     "data": {
      "image/png": "[encoded data removed]",
      "text/plain": [
       "<Figure size 432x288 with 1 Axes>"
      ]
     },
     "metadata": {
      "needs_background": "light"
     },
     "output_type": "display_data"
    }
   ],
   "source": [
    "df.plot(kind = 'line',\n",
    "        x = '% Sparsity',\n",
    "        y = '% Accuracy',\n",
    "        color = 'green')\n",
    "\n",
    "plt.title('Accuracy plot for Weight Pruning')\n",
    "\n",
    "plt.show()"
   ]
  },
  {
   "cell_type": "code",
   "execution_count": 10,
   "metadata": {},
   "outputs": [
    {
     "data": {
      "image/png": "[encoded data removed]",
      "text/plain": [
       "<Figure size 432x288 with 1 Axes>"
      ]
     },
     "metadata": {
      "needs_background": "light"
     },
     "output_type": "display_data"
    }
   ],
   "source": [
    "df.plot(kind = 'line', x = '% Sparsity', y = \"Execution Time\", color = 'blue')\n",
    "plt.title(\"Execution Time plot for Weight Pruning\")\n",
    "plt.show()"
   ]
  },
  {
   "cell_type": "markdown",
   "metadata": {},
   "source": [
    "## UNIT PRUINING"
   ]
  },
  {
   "cell_type": "code",
   "execution_count": 11,
   "metadata": {},
   "outputs": [],
   "source": [
    "def get_pruned_layer_weights(weight_array):\n",
    "    \"\"\"\n",
    "    1) Function to create a binary mask for \n",
    "        performing Unit Pruning\n",
    "    \"\"\"\n",
    "    l2norm = []\n",
    "    for neuron,neuron_weights in enumerate(weight_array):\n",
    "        l2norm.append(np.linalg.norm(neuron_weights))\n",
    "    ind = np.array(l2norm).argsort()\n",
    "    percent_to_prune = k\n",
    "    ind_weights_to_prune = ind[:int(k*float(len(ind)))]\n",
    "    new_weight = np.ones_like(weight_array)\n",
    "    for n in ind_weights_to_prune:\n",
    "        new_weight[n] = np.zeros_like(weight_array[n])\n",
    "    return new_weight\n",
    "\n",
    "class Unit_pruning(prune.BasePruningMethod):\n",
    "    \"\"\"\n",
    "    1) Prune or Detach a unit/neuron in a layer by making all its weights = 0.\n",
    "    2) Calculate L2 norm of each neuron's weights in a layer, prune away \n",
    "       units/neurons with the lowest k% L2 norms.   \n",
    "    \"\"\"\n",
    "    PRUNING_TYPE = 'unstructured'\n",
    "\n",
    "    def compute_mask(self, t, default_mask):\n",
    "        weight_array = t.detach().cpu().numpy()\n",
    "        mask = get_pruned_layer_weights(weight_array)\n",
    "        mask = torch.from_numpy(mask)\n",
    "        mask = mask.to(device)\n",
    "        return mask\n",
    "\n",
    "def unit_prune_layer(module, name):\n",
    "    \"\"\"\n",
    "    1)  Function to call the Unit pruning which will add a\n",
    "        mask buffer to the module/layer\n",
    "    \"\"\"\n",
    "    Unit_pruning.apply(module, name)\n",
    "    return module"
   ]
  },
  {
   "cell_type": "code",
   "execution_count": 12,
   "metadata": {},
   "outputs": [
    {
     "name": "stdout",
     "output_type": "stream",
     "text": [
      "Global sparsity: 0.00%\n",
      "Accuracy: 97.98%\n",
      "Global sparsity: 25.00%\n",
      "Accuracy: 98.02%\n",
      "Global sparsity: 50.00%\n",
      "Accuracy: 97.57%\n",
      "Global sparsity: 60.00%\n",
      "Accuracy: 87.50%\n",
      "Global sparsity: 70.00%\n",
      "Accuracy: 85.94%\n",
      "Global sparsity: 80.00%\n",
      "Accuracy: 78.97%\n",
      "Global sparsity: 90.00%\n",
      "Accuracy: 36.33%\n",
      "Global sparsity: 95.00%\n",
      "Accuracy: 9.74%\n",
      "Global sparsity: 97.00%\n",
      "Accuracy: 9.74%\n",
      "Global sparsity: 99.00%\n",
      "Accuracy: 9.74%\n"
     ]
    }
   ],
   "source": [
    "\"\"\"\n",
    "1)  Perform Unit Pruning to prune away k% neurons/units for k in  [0, 25, 50, 60, 70, 80, 90, 95, 97, 99]\n",
    "2)  Choose all layers other than the output layer and apply unit_prune_layer function to add the \n",
    "    binary mask buffer to the layer\n",
    "3)  Calculate Sparsity in layers and the Accuracy of the Pruned model on the Test set.\n",
    "\n",
    "Reference -->  https://pytorch.org/tutorials/intermediate/pruning_tutorial.html \n",
    "\"\"\"\n",
    "data = []\n",
    "for k in k_list:\n",
    "    unit_model = Model()\n",
    "    unit_model.to(device)\n",
    "    unit_model.load_state_dict(torch.load(\"mnist.pth\"))\n",
    "    unit_model.eval()\n",
    "    for name,layer in unit_model.named_modules():\n",
    "        \n",
    "        if name not in [\"\",\"out\"]:\n",
    "            unit_prune_layer(layer, name='weight')\n",
    "    \n",
    "    data.append(get_sparsity_accuracy(unit_model,test_data_loaded,device))"
   ]
  },
  {
   "cell_type": "code",
   "execution_count": 13,
   "metadata": {},
   "outputs": [
    {
     "name": "stdout",
     "output_type": "stream",
     "text": [
      "   % Sparsity  % Accuracy  Execution Time\n",
      "0         0.0       97.98        0.000853\n",
      "1        25.0       98.02        0.000435\n",
      "2        50.0       97.57        0.000814\n",
      "3        60.0       87.50        0.000202\n",
      "4        70.0       85.94        0.000503\n",
      "5        80.0       78.97        0.000316\n",
      "6        90.0       36.33        0.000600\n",
      "7        95.0        9.74        0.000614\n",
      "8        97.0        9.74        0.000692\n",
      "9        99.0        9.74        0.000548\n"
     ]
    }
   ],
   "source": [
    "df1 = pd.DataFrame(data,columns=['% Sparsity' , '% Accuracy' , \"Execution Time\"])\n",
    "print(df1)"
   ]
  },
  {
   "cell_type": "code",
   "execution_count": 14,
   "metadata": {},
   "outputs": [
    {
     "data": {
      "image/png": "[encoded data removed]",
      "text/plain": [
       "<Figure size 432x288 with 1 Axes>"
      ]
     },
     "metadata": {
      "needs_background": "light"
     },
     "output_type": "display_data"
    }
   ],
   "source": [
    "df1.plot(kind = 'line', x = '% Sparsity', y = '% Accuracy', color = 'green')\n",
    "plt.title('Accuracy plot for Unit Pruning')\n",
    "plt.show()"
   ]
  },
  {
   "cell_type": "code",
   "execution_count": 15,
   "metadata": {},
   "outputs": [
    {
     "data": {
      "image/png": "[encoded data removed]",
      "text/plain": [
       "<Figure size 432x288 with 1 Axes>"
      ]
     },
     "metadata": {
      "needs_background": "light"
     },
     "output_type": "display_data"
    }
   ],
   "source": [
    "df1.plot(kind = 'line', x = '% Sparsity', y = \"Execution Time\", color = 'blue')\n",
    "plt.title('Execution Time plot for Unit Pruning')\n",
    "plt.show()"
   ]
  },
  {
   "cell_type": "markdown",
   "metadata": {},
   "source": [
    "# ANALYSIS OF RESULTS"
   ]
  },
  {
   "cell_type": "markdown",
   "metadata": {},
   "source": [
    "- **Pruning** is a process to remove the insignificant weights or units in the network without affecting the overall accuracy of the model.   \n",
    "- Another benefit of pruning the model is that a pruned model is light and ecutes faster than the orginal model."
   ]
  },
  {
   "cell_type": "markdown",
   "metadata": {},
   "source": [
    "## What interesting insights did you find? "
   ]
  },
  {
   "cell_type": "markdown",
   "metadata": {},
   "source": [
    "- From the plots for %Sparsity vs %Accuracy we could see that the Accuracy of the pruned model almost remains the same to that   of the original till we prune about 80% of the weights in the Weight Pruining method and 50% in the Unit Pruning method.\n",
    "- Another interesting find was that the accuracy of the model slightly increased when the %Sparity = 25 which says that pruning   the model nullified the weights that lead to wrong classification of a few samples.\n",
    "- If we consider % Sparsity = 25% we can also see that the exceution time for the model decreased by 87% by using weight         pruning and 50% by using Unit Pruning.  \n"
   ]
  },
  {
   "cell_type": "markdown",
   "metadata": {},
   "source": [
    "## Do the curves differ?"
   ]
  },
  {
   "cell_type": "markdown",
   "metadata": {},
   "source": [
    "- Yes, the curves differ.  \n",
    "- The Accuracy curve remains almost constant till about 80% Sparsity using the Weight Pruning whereas it remains constant only till 50% Sparsity in Unit Pruning. "
   ]
  },
  {
   "cell_type": "markdown",
   "metadata": {},
   "source": [
    "## Why do you think that is/isn’t? "
   ]
  },
  {
   "cell_type": "markdown",
   "metadata": {},
   "source": [
    "- In Weight Pruining we consider all the weights in a layer rank them according to their absolute values and pruning the weights with the least k% values (l1 norm) whereas in Unit pruning we take L2 scores of each neuron and disconnect the entire neuron.\n",
    "- This leads to different distribution of weights being pruned in Weight and Unit Pruning.\n",
    "- By Unit Pruning a model one might delete a certain neuron that might have weights significant for model accuracy which would not have been deleted by Weight Pruning.\n",
    "- This leads to difference in curves"
   ]
  },
  {
   "cell_type": "markdown",
   "metadata": {},
   "source": [
    "## Do you have any hypotheses as to why we are able to delete so much of the network without hurting performance (this is an open research question)?"
   ]
  },
  {
   "cell_type": "markdown",
   "metadata": {},
   "source": [
    "- A trained model will have some weights that are very significant (with large absolute values) for neuron activation on the other hand there might be weights that are very insignificant.(with absolute values very close to 0)\n",
    "\n",
    "\n",
    "- Removing these insignificant weights will cause negligible change in neuron activations in the next layer and thus if pruned till a certain amount will not affect the overall accuracy of the model much.\n",
    "\n",
    "- While pruning we rank the weights according to l1 scores in WP and according to L2 in UP and we prune the weights/neurons with the least k% scores. By doing this we are performing a similar action to the example shown below:\n",
    "\n",
    "                                          neuron activation  = f(W * X_T + B)                     \n",
    "  \n",
    "                   where f(x) is relu, W is weight matrix, X_T  is transpose of input from previous layer\n",
    "                                                                \n",
    "  - consider a weight matrix [w1 ,w2 ,w3 ,w4 , w5] among which values of w3 and w4 are very small\n",
    "  \n",
    "                                        neuron activation = f (w1x1 + w2x2 + w3x3 + w4x4 + w5x5 + B)\n",
    "  \n",
    "  - if we replace w3 and w4 equal to 0 we can see that the neuron activation will not be affected by a large amount.\n",
    "\n",
    "\n",
    "\n",
    "\n",
    "- This is a reason why we are able to prune so much of the network without hurting the Accuracy scores. \n",
    "  \n",
    "  \n",
    "  "
   ]
  },
  {
   "cell_type": "markdown",
   "metadata": {},
   "source": [
    "## Bonus"
   ]
  },
  {
   "cell_type": "markdown",
   "metadata": {},
   "source": [
    "### See if you can find a way to use your new-found sparsity to speed up the execution of your neural net! This can be tricky but is a worthwhile engineering lesson in the optimization of your models."
   ]
  },
  {
   "cell_type": "markdown",
   "metadata": {},
   "source": [
    "- For Understanding the change in execution time after Pruining the models, I have recorded the time it takes for the pruned model to run the inference on the test set. The time we calculated as the average time the model took to run each test batch.\n",
    "- If consider k = 25% we can see that there is a significant drop in the excution times for the pruned models, 87% drop in Weight Pruning method and 49% drop in Unit Pruining method. "
   ]
  }
 ],
 "metadata": {
  "kernelspec": {
   "display_name": "Python 3",
   "language": "python",
   "name": "python3"
  },
  "language_info": {
   "codemirror_mode": {
    "name": "ipython",
    "version": 3
   },
   "file_extension": ".py",
   "mimetype": "text/x-python",
   "name": "python",
   "nbconvert_exporter": "python",
   "pygments_lexer": "ipython3",
   "version": "3.8.5"
  }
 },
 "nbformat": 4,
 "nbformat_minor": 4
}
